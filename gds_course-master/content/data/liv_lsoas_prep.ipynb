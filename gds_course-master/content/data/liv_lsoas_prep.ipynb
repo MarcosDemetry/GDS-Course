{
 "cells": [
  {
   "cell_type": "markdown",
   "metadata": {},
   "source": [
    "# Prepare LSOA/MSOA table for Liverpool\n",
    "\n",
    "We need the following two datasets:\n",
    "\n",
    "- LSOAs originally downloaded from the CDRC data store ([original link](https://data.cdrc.ac.uk/dataset/cdrc-english-indices-of-deprivation-2015-geodata-pack-liverpool-e08000012)).\n",
    "- LSOA to MSOA crosswalk from [ONS](http://www.ons.gov.uk/ons/external-links/social-media/g-m/2011-oas-to-2011-lower-layer-super-output-areas--lsoas---middle-layer-super-output-areas--msoa--and-lads.html).\n",
    "\n",
    "LSOAs come from the IMD package from the CDRC. The dataset was most easily downloaded from the CDRC data store ([link](https://data.cdrc.ac.uk/dataset/cdrc-english-indices-of-deprivation-2015-geodata-pack-liverpool-e08000012)) and, since it already comes both in tabular as well as spatial data format (shapefile), it does not need merging or joining to additional geometries.\n",
    "\n",
    "In addition, we will be using the lookup between LSOAs and Medium Super Output Areas (MSOAs), which can be downloaded on this [link](http://www.ons.gov.uk/ons/external-links/social-media/g-m/2011-oas-to-2011-lower-layer-super-output-areas--lsoas---middle-layer-super-output-areas--msoa--and-lads.html). This connects each LSOA polygon to the MSOA they belong to. MSOAs are a coarser geographic delineation from the Office of National Statistics (ONS), within which LSOAs are nested. That is, no LSOA boundary crosses any of an MSOA."
   ]
  },
  {
   "cell_type": "code",
   "execution_count": 1,
   "metadata": {},
   "outputs": [],
   "source": [
    "import pandas\n",
    "import geopandas"
   ]
  },
  {
   "cell_type": "markdown",
   "metadata": {},
   "source": [
    "- We read the LSOAs"
   ]
  },
  {
   "cell_type": "code",
   "execution_count": 2,
   "metadata": {},
   "outputs": [
    {
     "name": "stdout",
     "output_type": "stream",
     "text": [
      "<class 'geopandas.geodataframe.GeoDataFrame'>\n",
      "RangeIndex: 298 entries, 0 to 297\n",
      "Data columns (total 13 columns):\n",
      " #   Column      Non-Null Count  Dtype   \n",
      "---  ------      --------------  -----   \n",
      " 0   LSOA11CD    298 non-null    object  \n",
      " 1   imd_rank    298 non-null    int64   \n",
      " 2   imd_score   298 non-null    float64 \n",
      " 3   income      298 non-null    float64 \n",
      " 4   employment  298 non-null    float64 \n",
      " 5   education   298 non-null    float64 \n",
      " 6   health      298 non-null    float64 \n",
      " 7   crime       298 non-null    float64 \n",
      " 8   housing     298 non-null    float64 \n",
      " 9   living_env  298 non-null    float64 \n",
      " 10  idaci       298 non-null    float64 \n",
      " 11  idaopi      298 non-null    float64 \n",
      " 12  geometry    298 non-null    geometry\n",
      "dtypes: float64(10), geometry(1), int64(1), object(1)\n",
      "memory usage: 30.4+ KB\n"
     ]
    }
   ],
   "source": [
    "lsoas = geopandas.read_file(\"../../E08000012_IMD/shapefiles/E08000012.shp\")\n",
    "lsoas.info()"
   ]
  },
  {
   "cell_type": "markdown",
   "metadata": {},
   "source": [
    "- We also need the crosswalk between LSOA and MSOA"
   ]
  },
  {
   "cell_type": "code",
   "execution_count": 3,
   "metadata": {},
   "outputs": [
    {
     "name": "stdout",
     "output_type": "stream",
     "text": [
      "<class 'pandas.core.frame.DataFrame'>\n",
      "RangeIndex: 181408 entries, 0 to 181407\n",
      "Data columns (total 8 columns):\n",
      " #   Column    Non-Null Count   Dtype \n",
      "---  ------    --------------   ----- \n",
      " 0   OA11CD    181408 non-null  object\n",
      " 1   LSOA11CD  181408 non-null  object\n",
      " 2   LSOA11NM  181408 non-null  object\n",
      " 3   MSOA11CD  181408 non-null  object\n",
      " 4   MSOA11NM  181408 non-null  object\n",
      " 5   LAD11CD   181408 non-null  object\n",
      " 6   LAD11NM   181408 non-null  object\n",
      " 7   LAD11NMW  10036 non-null   object\n",
      "dtypes: object(8)\n",
      "memory usage: 11.1+ MB\n"
     ]
    },
    {
     "name": "stderr",
     "output_type": "stream",
     "text": [
      "/opt/conda/lib/python3.7/site-packages/IPython/core/interactiveshell.py:3072: DtypeWarning: Columns (7) have mixed types.Specify dtype option on import or set low_memory=False.\n",
      "  interactivity=interactivity, compiler=compiler, result=result)\n"
     ]
    }
   ],
   "source": [
    "cw = pandas.read_csv(\"../../E08000012_IMD/OA11_LSOA11_MSOA11_LAD11_EW_LUv2.csv\", \n",
    "                     encoding=\"iso-8859-1\"\n",
    "                    )\n",
    "cw.info()"
   ]
  },
  {
   "cell_type": "markdown",
   "metadata": {},
   "source": [
    "- Grab MSOA codes for Liverpool LSOA"
   ]
  },
  {
   "cell_type": "code",
   "execution_count": 4,
   "metadata": {},
   "outputs": [],
   "source": [
    "msoas = cw[['LSOA11CD', 'MSOA11CD']]\\\n",
    "          .drop_duplicates(keep='last')\\\n",
    "          .set_index('LSOA11CD')"
   ]
  },
  {
   "cell_type": "markdown",
   "metadata": {},
   "source": [
    "- Build the table"
   ]
  },
  {
   "cell_type": "code",
   "execution_count": 5,
   "metadata": {},
   "outputs": [
    {
     "data": {
      "text/html": [
       "<div>\n",
       "<style scoped>\n",
       "    .dataframe tbody tr th:only-of-type {\n",
       "        vertical-align: middle;\n",
       "    }\n",
       "\n",
       "    .dataframe tbody tr th {\n",
       "        vertical-align: top;\n",
       "    }\n",
       "\n",
       "    .dataframe thead th {\n",
       "        text-align: right;\n",
       "    }\n",
       "</style>\n",
       "<table border=\"1\" class=\"dataframe\">\n",
       "  <thead>\n",
       "    <tr style=\"text-align: right;\">\n",
       "      <th></th>\n",
       "      <th>MSOA11CD</th>\n",
       "    </tr>\n",
       "    <tr>\n",
       "      <th>LSOA11CD</th>\n",
       "      <th></th>\n",
       "    </tr>\n",
       "  </thead>\n",
       "  <tbody>\n",
       "    <tr>\n",
       "      <th>E01000002</th>\n",
       "      <td>E02000001</td>\n",
       "    </tr>\n",
       "    <tr>\n",
       "      <th>E01032740</th>\n",
       "      <td>E02000001</td>\n",
       "    </tr>\n",
       "    <tr>\n",
       "      <th>E01000005</th>\n",
       "      <td>E02000001</td>\n",
       "    </tr>\n",
       "    <tr>\n",
       "      <th>E01000009</th>\n",
       "      <td>E02000017</td>\n",
       "    </tr>\n",
       "    <tr>\n",
       "      <th>E01000008</th>\n",
       "      <td>E02000016</td>\n",
       "    </tr>\n",
       "  </tbody>\n",
       "</table>\n",
       "</div>"
      ],
      "text/plain": [
       "            MSOA11CD\n",
       "LSOA11CD            \n",
       "E01000002  E02000001\n",
       "E01032740  E02000001\n",
       "E01000005  E02000001\n",
       "E01000009  E02000017\n",
       "E01000008  E02000016"
      ]
     },
     "execution_count": 5,
     "metadata": {},
     "output_type": "execute_result"
    }
   ],
   "source": [
    "msoas.head()"
   ]
  },
  {
   "cell_type": "code",
   "execution_count": 6,
   "metadata": {},
   "outputs": [
    {
     "name": "stdout",
     "output_type": "stream",
     "text": [
      "<class 'geopandas.geodataframe.GeoDataFrame'>\n",
      "RangeIndex: 298 entries, 0 to 297\n",
      "Data columns (total 3 columns):\n",
      " #   Column    Non-Null Count  Dtype   \n",
      "---  ------    --------------  -----   \n",
      " 0   LSOA11CD  298 non-null    object  \n",
      " 1   MSOA11CD  298 non-null    object  \n",
      " 2   geometry  298 non-null    geometry\n",
      "dtypes: geometry(1), object(2)\n",
      "memory usage: 7.1+ KB\n"
     ]
    }
   ],
   "source": [
    "db = lsoas.join(msoas, on=\"LSOA11CD\")\\\n",
    "          [[\"LSOA11CD\", \"MSOA11CD\", \"geometry\"]]\n",
    "db.info()"
   ]
  },
  {
   "cell_type": "markdown",
   "metadata": {},
   "source": [
    "- Write as Geopackage"
   ]
  },
  {
   "cell_type": "code",
   "execution_count": 7,
   "metadata": {},
   "outputs": [],
   "source": [
    "! rm -f liv_lsoas.gpkg\n",
    "db.to_file(\"liv_lsoas.gpkg\", driver=\"GPKG\")"
   ]
  }
 ],
 "metadata": {
  "kernelspec": {
   "display_name": "Python 3",
   "language": "python",
   "name": "python3"
  },
  "language_info": {
   "codemirror_mode": {
    "name": "ipython",
    "version": 3
   },
   "file_extension": ".py",
   "mimetype": "text/x-python",
   "name": "python",
   "nbconvert_exporter": "python",
   "pygments_lexer": "ipython3",
   "version": "3.7.8"
  }
 },
 "nbformat": 4,
 "nbformat_minor": 4
}
