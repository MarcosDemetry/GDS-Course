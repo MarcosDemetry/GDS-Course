{
 "cells": [
  {
   "cell_type": "markdown",
   "metadata": {},
   "source": [
    "# Tokyo districts administrative boundaries\n",
    "\n",
    "Here we prepare a GeoJSON for the administrative areas the [Flickr dataset for Tokyo](https://geographicdata.science/book/data/tokyo/tokyo_clean.csv) covers."
   ]
  },
  {
   "cell_type": "code",
   "execution_count": 1,
   "metadata": {},
   "outputs": [],
   "source": [
    "import pandas, geopandas"
   ]
  },
  {
   "cell_type": "markdown",
   "metadata": {},
   "source": [
    "## Get extent of photos\n",
    "\n",
    "Read table in:"
   ]
  },
  {
   "cell_type": "code",
   "execution_count": 2,
   "metadata": {},
   "outputs": [
    {
     "name": "stdout",
     "output_type": "stream",
     "text": [
      "<class 'pandas.core.frame.DataFrame'>\n",
      "RangeIndex: 10000 entries, 0 to 9999\n",
      "Data columns (total 7 columns):\n",
      " #   Column                Non-Null Count  Dtype  \n",
      "---  ------                --------------  -----  \n",
      " 0   user_id               10000 non-null  object \n",
      " 1   longitude             10000 non-null  float64\n",
      " 2   latitude              10000 non-null  float64\n",
      " 3   date_taken            10000 non-null  object \n",
      " 4   photo/video_page_url  10000 non-null  object \n",
      " 5   x                     10000 non-null  float64\n",
      " 6   y                     10000 non-null  float64\n",
      "dtypes: float64(4), object(3)\n",
      "memory usage: 547.0+ KB\n"
     ]
    }
   ],
   "source": [
    "db = pandas.read_csv(\"https://geographicdata.science/book/_downloads/7fb86b605af15b3c9cbd9bfcbead23e9/tokyo_clean.csv\")\n",
    "db.info()"
   ]
  },
  {
   "cell_type": "markdown",
   "metadata": {},
   "source": [
    "Turn it into a `GeoDataFrame`:"
   ]
  },
  {
   "cell_type": "code",
   "execution_count": 3,
   "metadata": {},
   "outputs": [],
   "source": [
    "pts = geopandas.points_from_xy(db[\"longitude\"], db[\"latitude\"])\n",
    "photos = geopandas.GeoDataFrame({\"geometry\": pts},\n",
    "                                crs=\"EPSG:4326\"\n",
    "                               ).join(db)"
   ]
  },
  {
   "cell_type": "markdown",
   "metadata": {},
   "source": [
    "## Access boundaries for Japan\n",
    "\n",
    "We rely on the excellent [GADM](https://gadm.org) project for the Japan file:"
   ]
  },
  {
   "cell_type": "code",
   "execution_count": 4,
   "metadata": {},
   "outputs": [
    {
     "name": "stdout",
     "output_type": "stream",
     "text": [
      "--2020-09-18 11:38:33--  https://biogeo.ucdavis.edu/data/gadm3.6/gpkg/gadm36_JPN_gpkg.zip\n",
      "Resolving biogeo.ucdavis.edu (biogeo.ucdavis.edu)... 128.120.228.172\n",
      "Connecting to biogeo.ucdavis.edu (biogeo.ucdavis.edu)|128.120.228.172|:443... connected.\n",
      "HTTP request sent, awaiting response... 302 Found\n",
      "Location: https://data.biogeo.ucdavis.edu/data/gadm3.6/gpkg/gadm36_JPN_gpkg.zip [following]\n",
      "--2020-09-18 11:38:34--  https://data.biogeo.ucdavis.edu/data/gadm3.6/gpkg/gadm36_JPN_gpkg.zip\n",
      "Resolving data.biogeo.ucdavis.edu (data.biogeo.ucdavis.edu)... 128.120.228.172\n",
      "Connecting to data.biogeo.ucdavis.edu (data.biogeo.ucdavis.edu)|128.120.228.172|:443... connected.\n",
      "HTTP request sent, awaiting response... 200 OK\n",
      "Length: 12035160 (11M) [application/zip]\n",
      "Saving to: ‘gadm36_JPN_gpkg.zip’\n",
      "\n",
      "gadm36_JPN_gpkg.zip 100%[===================>]  11.48M  1.54MB/s    in 8.5s    \n",
      "\n",
      "2020-09-18 11:38:43 (1.35 MB/s) - ‘gadm36_JPN_gpkg.zip’ saved [12035160/12035160]\n",
      "\n"
     ]
    }
   ],
   "source": [
    "! wget https://biogeo.ucdavis.edu/data/gadm3.6/gpkg/gadm36_JPN_gpkg.zip"
   ]
  },
  {
   "cell_type": "markdown",
   "metadata": {},
   "source": [
    "Unzip it:"
   ]
  },
  {
   "cell_type": "code",
   "execution_count": 5,
   "metadata": {},
   "outputs": [
    {
     "name": "stdout",
     "output_type": "stream",
     "text": [
      "Archive:  gadm36_JPN_gpkg.zip\n",
      "  inflating: gadm36_JPN.gpkg         \n",
      "  inflating: license.txt             \n"
     ]
    }
   ],
   "source": [
    "! unzip gadm36_JPN_gpkg.zip"
   ]
  },
  {
   "cell_type": "markdown",
   "metadata": {},
   "source": [
    "Read in the table for smallest areas:"
   ]
  },
  {
   "cell_type": "code",
   "execution_count": 6,
   "metadata": {},
   "outputs": [],
   "source": [
    "areas = geopandas.read_file(\"gadm36_JPN.gpkg\", layer=0)"
   ]
  },
  {
   "cell_type": "markdown",
   "metadata": {},
   "source": [
    "Remove unnecessary files:"
   ]
  },
  {
   "cell_type": "code",
   "execution_count": 7,
   "metadata": {},
   "outputs": [],
   "source": [
    "! rm gadm36_JPN_gpkg.zip license.txt gadm36_JPN.gpkg"
   ]
  },
  {
   "cell_type": "markdown",
   "metadata": {},
   "source": [
    "## Clip areas"
   ]
  },
  {
   "cell_type": "markdown",
   "metadata": {},
   "source": [
    "Identify areas with at least one photo:"
   ]
  },
  {
   "cell_type": "code",
   "execution_count": 8,
   "metadata": {},
   "outputs": [],
   "source": [
    "j = geopandas.sjoin(photos, \n",
    "                    areas,\n",
    "                    how=\"inner\"\n",
    "                   )\n",
    "ids_to_keep = j[\"GID_2\"].unique()"
   ]
  },
  {
   "cell_type": "markdown",
   "metadata": {},
   "source": [
    "Filter irrelevant areas and columns out:"
   ]
  },
  {
   "cell_type": "code",
   "execution_count": 9,
   "metadata": {},
   "outputs": [
    {
     "name": "stdout",
     "output_type": "stream",
     "text": [
      "<class 'geopandas.geodataframe.GeoDataFrame'>\n",
      "Int64Index: 39 entries, 138 to 1665\n",
      "Data columns (total 6 columns):\n",
      " #   Column     Non-Null Count  Dtype   \n",
      "---  ------     --------------  -----   \n",
      " 0   GID_1      39 non-null     object  \n",
      " 1   NAME_1     39 non-null     object  \n",
      " 2   GID_2      39 non-null     object  \n",
      " 3   NAME_2     39 non-null     object  \n",
      " 4   ENGTYPE_2  39 non-null     object  \n",
      " 5   geometry   39 non-null     geometry\n",
      "dtypes: geometry(1), object(5)\n",
      "memory usage: 2.1+ KB\n"
     ]
    }
   ],
   "source": [
    "vars_to_keep = [\"GID_1\", \n",
    "                \"NAME_1\", \n",
    "                \"GID_2\", \n",
    "                \"NAME_2\", \n",
    "                \"ENGTYPE_2\", \n",
    "                \"geometry\"\n",
    "               ]\n",
    "areas_to_keep = areas.loc[areas[\"GID_2\"].isin(ids_to_keep), vars_to_keep]\n",
    "areas_to_keep.info()"
   ]
  },
  {
   "cell_type": "markdown",
   "metadata": {},
   "source": [
    "## Write out"
   ]
  },
  {
   "cell_type": "code",
   "execution_count": 10,
   "metadata": {},
   "outputs": [],
   "source": [
    "! rm -f tokyo_admin_boundaries.geojson\n",
    "areas_to_keep.to_file(\"tokyo_admin_boundaries.geojson\", driver=\"GeoJSON\")"
   ]
  }
 ],
 "metadata": {
  "kernelspec": {
   "display_name": "Python 3",
   "language": "python",
   "name": "python3"
  },
  "language_info": {
   "codemirror_mode": {
    "name": "ipython",
    "version": 3
   },
   "file_extension": ".py",
   "mimetype": "text/x-python",
   "name": "python",
   "nbconvert_exporter": "python",
   "pygments_lexer": "ipython3",
   "version": "3.7.8"
  }
 },
 "nbformat": 4,
 "nbformat_minor": 4
}
