{
 "cells": [
  {
   "cell_type": "markdown",
   "metadata": {},
   "source": [
    "# Solutions for block B\n",
    "\n",
    "From DIY, we get how to read and prep the data:"
   ]
  },
  {
   "cell_type": "code",
   "execution_count": 1,
   "metadata": {},
   "outputs": [],
   "source": [
    "import pandas\n",
    "\n",
    "url = (\"https://docs.google.com/spreadsheets/d/\"\\\n",
    "       \"1EAx8_ksSCmoWW_SlhFyq2QrRn0FNNhcg1TtDFJzZRgc/\"\\\n",
    "       \"export?format=csv&gid=1\")\n",
    "url\n",
    "\n",
    "db = pandas.read_csv(url, skiprows=[0, -1], thousands=\",\")"
   ]
  },
  {
   "cell_type": "markdown",
   "metadata": {},
   "source": [
    "## Tasks\n",
    "\n",
    "An important aspect to realise is that, at the bottom of the table, there's the totals:"
   ]
  },
  {
   "cell_type": "code",
   "execution_count": 2,
   "metadata": {},
   "outputs": [
    {
     "data": {
      "text/html": [
       "<div>\n",
       "<style scoped>\n",
       "    .dataframe tbody tr th:only-of-type {\n",
       "        vertical-align: middle;\n",
       "    }\n",
       "\n",
       "    .dataframe tbody tr th {\n",
       "        vertical-align: top;\n",
       "    }\n",
       "\n",
       "    .dataframe thead th {\n",
       "        text-align: right;\n",
       "    }\n",
       "</style>\n",
       "<table border=\"1\" class=\"dataframe\">\n",
       "  <thead>\n",
       "    <tr style=\"text-align: right;\">\n",
       "      <th></th>\n",
       "      <th>Year</th>\n",
       "      <th>Month</th>\n",
       "      <th>Taliban</th>\n",
       "      <th>Civilians</th>\n",
       "      <th>Afghan forces</th>\n",
       "      <th>Nato (detailed in spreadsheet)</th>\n",
       "      <th>Nato - official figures</th>\n",
       "    </tr>\n",
       "  </thead>\n",
       "  <tbody>\n",
       "    <tr>\n",
       "      <th>68</th>\n",
       "      <td>2009.0</td>\n",
       "      <td>September</td>\n",
       "      <td>614.0</td>\n",
       "      <td>197</td>\n",
       "      <td>133.0</td>\n",
       "      <td>54.0</td>\n",
       "      <td>70.0</td>\n",
       "    </tr>\n",
       "    <tr>\n",
       "      <th>69</th>\n",
       "      <td>2009.0</td>\n",
       "      <td>October</td>\n",
       "      <td>462.0</td>\n",
       "      <td>107</td>\n",
       "      <td>86.0</td>\n",
       "      <td>76.0</td>\n",
       "      <td>74.0</td>\n",
       "    </tr>\n",
       "    <tr>\n",
       "      <th>70</th>\n",
       "      <td>2009.0</td>\n",
       "      <td>November</td>\n",
       "      <td>410.0</td>\n",
       "      <td>120</td>\n",
       "      <td>69.0</td>\n",
       "      <td>30.0</td>\n",
       "      <td>32.0</td>\n",
       "    </tr>\n",
       "    <tr>\n",
       "      <th>71</th>\n",
       "      <td>2009.0</td>\n",
       "      <td>December</td>\n",
       "      <td>287.0</td>\n",
       "      <td>87</td>\n",
       "      <td>65.0</td>\n",
       "      <td>33.0</td>\n",
       "      <td>35.0</td>\n",
       "    </tr>\n",
       "    <tr>\n",
       "      <th>72</th>\n",
       "      <td>NaN</td>\n",
       "      <td>24498</td>\n",
       "      <td>15507.0</td>\n",
       "      <td>4024</td>\n",
       "      <td>3820.0</td>\n",
       "      <td>1147.0</td>\n",
       "      <td>NaN</td>\n",
       "    </tr>\n",
       "  </tbody>\n",
       "</table>\n",
       "</div>"
      ],
      "text/plain": [
       "      Year      Month  Taliban  Civilians  Afghan forces  \\\n",
       "68  2009.0  September    614.0        197          133.0   \n",
       "69  2009.0    October    462.0        107           86.0   \n",
       "70  2009.0   November    410.0        120           69.0   \n",
       "71  2009.0   December    287.0         87           65.0   \n",
       "72     NaN      24498  15507.0       4024         3820.0   \n",
       "\n",
       "    Nato (detailed in spreadsheet)  Nato - official figures  \n",
       "68                            54.0                     70.0  \n",
       "69                            76.0                     74.0  \n",
       "70                            30.0                     32.0  \n",
       "71                            33.0                     35.0  \n",
       "72                          1147.0                      NaN  "
      ]
     },
     "execution_count": 2,
     "metadata": {},
     "output_type": "execute_result"
    }
   ],
   "source": [
    "db.tail()"
   ]
  },
  {
   "cell_type": "markdown",
   "metadata": {},
   "source": [
    "To avoid including this when looking for the answers to the questions below, we can do several things. Here's a couple of solutions:\n",
    "\n",
    "1. Use `iloc` to kick out the last row:"
   ]
  },
  {
   "cell_type": "code",
   "execution_count": 3,
   "metadata": {},
   "outputs": [
    {
     "data": {
      "text/html": [
       "<div>\n",
       "<style scoped>\n",
       "    .dataframe tbody tr th:only-of-type {\n",
       "        vertical-align: middle;\n",
       "    }\n",
       "\n",
       "    .dataframe tbody tr th {\n",
       "        vertical-align: top;\n",
       "    }\n",
       "\n",
       "    .dataframe thead th {\n",
       "        text-align: right;\n",
       "    }\n",
       "</style>\n",
       "<table border=\"1\" class=\"dataframe\">\n",
       "  <thead>\n",
       "    <tr style=\"text-align: right;\">\n",
       "      <th></th>\n",
       "      <th>Year</th>\n",
       "      <th>Month</th>\n",
       "      <th>Taliban</th>\n",
       "      <th>Civilians</th>\n",
       "      <th>Afghan forces</th>\n",
       "      <th>Nato (detailed in spreadsheet)</th>\n",
       "      <th>Nato - official figures</th>\n",
       "    </tr>\n",
       "  </thead>\n",
       "  <tbody>\n",
       "    <tr>\n",
       "      <th>67</th>\n",
       "      <td>2009.0</td>\n",
       "      <td>August</td>\n",
       "      <td>445.0</td>\n",
       "      <td>206</td>\n",
       "      <td>190.0</td>\n",
       "      <td>64.0</td>\n",
       "      <td>77.0</td>\n",
       "    </tr>\n",
       "    <tr>\n",
       "      <th>68</th>\n",
       "      <td>2009.0</td>\n",
       "      <td>September</td>\n",
       "      <td>614.0</td>\n",
       "      <td>197</td>\n",
       "      <td>133.0</td>\n",
       "      <td>54.0</td>\n",
       "      <td>70.0</td>\n",
       "    </tr>\n",
       "    <tr>\n",
       "      <th>69</th>\n",
       "      <td>2009.0</td>\n",
       "      <td>October</td>\n",
       "      <td>462.0</td>\n",
       "      <td>107</td>\n",
       "      <td>86.0</td>\n",
       "      <td>76.0</td>\n",
       "      <td>74.0</td>\n",
       "    </tr>\n",
       "    <tr>\n",
       "      <th>70</th>\n",
       "      <td>2009.0</td>\n",
       "      <td>November</td>\n",
       "      <td>410.0</td>\n",
       "      <td>120</td>\n",
       "      <td>69.0</td>\n",
       "      <td>30.0</td>\n",
       "      <td>32.0</td>\n",
       "    </tr>\n",
       "    <tr>\n",
       "      <th>71</th>\n",
       "      <td>2009.0</td>\n",
       "      <td>December</td>\n",
       "      <td>287.0</td>\n",
       "      <td>87</td>\n",
       "      <td>65.0</td>\n",
       "      <td>33.0</td>\n",
       "      <td>35.0</td>\n",
       "    </tr>\n",
       "  </tbody>\n",
       "</table>\n",
       "</div>"
      ],
      "text/plain": [
       "      Year      Month  Taliban  Civilians  Afghan forces  \\\n",
       "67  2009.0     August    445.0        206          190.0   \n",
       "68  2009.0  September    614.0        197          133.0   \n",
       "69  2009.0    October    462.0        107           86.0   \n",
       "70  2009.0   November    410.0        120           69.0   \n",
       "71  2009.0   December    287.0         87           65.0   \n",
       "\n",
       "    Nato (detailed in spreadsheet)  Nato - official figures  \n",
       "67                            64.0                     77.0  \n",
       "68                            54.0                     70.0  \n",
       "69                            76.0                     74.0  \n",
       "70                            30.0                     32.0  \n",
       "71                            33.0                     35.0  "
      ]
     },
     "execution_count": 3,
     "metadata": {},
     "output_type": "execute_result"
    }
   ],
   "source": [
    "db_wo_total1 = db.iloc[:-1, :]\n",
    "db_wo_total1.tail()"
   ]
  },
  {
   "cell_type": "markdown",
   "metadata": {},
   "source": [
    "2. Use `.drop` to explicitly remove the row:"
   ]
  },
  {
   "cell_type": "code",
   "execution_count": 4,
   "metadata": {},
   "outputs": [
    {
     "data": {
      "text/html": [
       "<div>\n",
       "<style scoped>\n",
       "    .dataframe tbody tr th:only-of-type {\n",
       "        vertical-align: middle;\n",
       "    }\n",
       "\n",
       "    .dataframe tbody tr th {\n",
       "        vertical-align: top;\n",
       "    }\n",
       "\n",
       "    .dataframe thead th {\n",
       "        text-align: right;\n",
       "    }\n",
       "</style>\n",
       "<table border=\"1\" class=\"dataframe\">\n",
       "  <thead>\n",
       "    <tr style=\"text-align: right;\">\n",
       "      <th></th>\n",
       "      <th>Year</th>\n",
       "      <th>Month</th>\n",
       "      <th>Taliban</th>\n",
       "      <th>Civilians</th>\n",
       "      <th>Afghan forces</th>\n",
       "      <th>Nato (detailed in spreadsheet)</th>\n",
       "      <th>Nato - official figures</th>\n",
       "    </tr>\n",
       "  </thead>\n",
       "  <tbody>\n",
       "    <tr>\n",
       "      <th>67</th>\n",
       "      <td>2009.0</td>\n",
       "      <td>August</td>\n",
       "      <td>445.0</td>\n",
       "      <td>206</td>\n",
       "      <td>190.0</td>\n",
       "      <td>64.0</td>\n",
       "      <td>77.0</td>\n",
       "    </tr>\n",
       "    <tr>\n",
       "      <th>68</th>\n",
       "      <td>2009.0</td>\n",
       "      <td>September</td>\n",
       "      <td>614.0</td>\n",
       "      <td>197</td>\n",
       "      <td>133.0</td>\n",
       "      <td>54.0</td>\n",
       "      <td>70.0</td>\n",
       "    </tr>\n",
       "    <tr>\n",
       "      <th>69</th>\n",
       "      <td>2009.0</td>\n",
       "      <td>October</td>\n",
       "      <td>462.0</td>\n",
       "      <td>107</td>\n",
       "      <td>86.0</td>\n",
       "      <td>76.0</td>\n",
       "      <td>74.0</td>\n",
       "    </tr>\n",
       "    <tr>\n",
       "      <th>70</th>\n",
       "      <td>2009.0</td>\n",
       "      <td>November</td>\n",
       "      <td>410.0</td>\n",
       "      <td>120</td>\n",
       "      <td>69.0</td>\n",
       "      <td>30.0</td>\n",
       "      <td>32.0</td>\n",
       "    </tr>\n",
       "    <tr>\n",
       "      <th>71</th>\n",
       "      <td>2009.0</td>\n",
       "      <td>December</td>\n",
       "      <td>287.0</td>\n",
       "      <td>87</td>\n",
       "      <td>65.0</td>\n",
       "      <td>33.0</td>\n",
       "      <td>35.0</td>\n",
       "    </tr>\n",
       "  </tbody>\n",
       "</table>\n",
       "</div>"
      ],
      "text/plain": [
       "      Year      Month  Taliban  Civilians  Afghan forces  \\\n",
       "67  2009.0     August    445.0        206          190.0   \n",
       "68  2009.0  September    614.0        197          133.0   \n",
       "69  2009.0    October    462.0        107           86.0   \n",
       "70  2009.0   November    410.0        120           69.0   \n",
       "71  2009.0   December    287.0         87           65.0   \n",
       "\n",
       "    Nato (detailed in spreadsheet)  Nato - official figures  \n",
       "67                            64.0                     77.0  \n",
       "68                            54.0                     70.0  \n",
       "69                            76.0                     74.0  \n",
       "70                            30.0                     32.0  \n",
       "71                            33.0                     35.0  "
      ]
     },
     "execution_count": 4,
     "metadata": {},
     "output_type": "execute_result"
    }
   ],
   "source": [
    "db_wo_total2 = db.drop(72)\n",
    "db_wo_total2.tail()"
   ]
  },
  {
   "cell_type": "markdown",
   "metadata": {},
   "source": [
    "### Obtain the minimum number of civilian casualties (in what month was that?)\n"
   ]
  },
  {
   "cell_type": "code",
   "execution_count": 5,
   "metadata": {},
   "outputs": [
    {
     "data": {
      "text/html": [
       "<div>\n",
       "<style scoped>\n",
       "    .dataframe tbody tr th:only-of-type {\n",
       "        vertical-align: middle;\n",
       "    }\n",
       "\n",
       "    .dataframe tbody tr th {\n",
       "        vertical-align: top;\n",
       "    }\n",
       "\n",
       "    .dataframe thead th {\n",
       "        text-align: right;\n",
       "    }\n",
       "</style>\n",
       "<table border=\"1\" class=\"dataframe\">\n",
       "  <thead>\n",
       "    <tr style=\"text-align: right;\">\n",
       "      <th></th>\n",
       "      <th>Year</th>\n",
       "      <th>Month</th>\n",
       "      <th>Taliban</th>\n",
       "      <th>Civilians</th>\n",
       "      <th>Afghan forces</th>\n",
       "      <th>Nato (detailed in spreadsheet)</th>\n",
       "      <th>Nato - official figures</th>\n",
       "    </tr>\n",
       "  </thead>\n",
       "  <tbody>\n",
       "    <tr>\n",
       "      <th>2</th>\n",
       "      <td>2004.0</td>\n",
       "      <td>March</td>\n",
       "      <td>19.0</td>\n",
       "      <td>2</td>\n",
       "      <td>NaN</td>\n",
       "      <td>2.0</td>\n",
       "      <td>3.0</td>\n",
       "    </tr>\n",
       "  </tbody>\n",
       "</table>\n",
       "</div>"
      ],
      "text/plain": [
       "     Year  Month  Taliban  Civilians  Afghan forces  \\\n",
       "2  2004.0  March     19.0          2            NaN   \n",
       "\n",
       "   Nato (detailed in spreadsheet)  Nato - official figures  \n",
       "2                             2.0                      3.0  "
      ]
     },
     "execution_count": 5,
     "metadata": {},
     "output_type": "execute_result"
    }
   ],
   "source": [
    "db.loc[db[\"Civilians\"]==db[\"Civilians\"].min(), :]"
   ]
  },
  {
   "cell_type": "markdown",
   "metadata": {},
   "source": [
    "### How many NATO casualties were registered in August 2008?\n"
   ]
  },
  {
   "cell_type": "code",
   "execution_count": 6,
   "metadata": {},
   "outputs": [
    {
     "data": {
      "text/html": [
       "<div>\n",
       "<style scoped>\n",
       "    .dataframe tbody tr th:only-of-type {\n",
       "        vertical-align: middle;\n",
       "    }\n",
       "\n",
       "    .dataframe tbody tr th {\n",
       "        vertical-align: top;\n",
       "    }\n",
       "\n",
       "    .dataframe thead th {\n",
       "        text-align: right;\n",
       "    }\n",
       "</style>\n",
       "<table border=\"1\" class=\"dataframe\">\n",
       "  <thead>\n",
       "    <tr style=\"text-align: right;\">\n",
       "      <th></th>\n",
       "      <th>Year</th>\n",
       "      <th>Month</th>\n",
       "      <th>Taliban</th>\n",
       "      <th>Civilians</th>\n",
       "      <th>Afghan forces</th>\n",
       "      <th>Nato (detailed in spreadsheet)</th>\n",
       "      <th>Nato - official figures</th>\n",
       "    </tr>\n",
       "  </thead>\n",
       "  <tbody>\n",
       "    <tr>\n",
       "      <th>55</th>\n",
       "      <td>2008.0</td>\n",
       "      <td>August</td>\n",
       "      <td>326.0</td>\n",
       "      <td>46</td>\n",
       "      <td>61.0</td>\n",
       "      <td>46.0</td>\n",
       "      <td>46.0</td>\n",
       "    </tr>\n",
       "  </tbody>\n",
       "</table>\n",
       "</div>"
      ],
      "text/plain": [
       "      Year   Month  Taliban  Civilians  Afghan forces  \\\n",
       "55  2008.0  August    326.0         46           61.0   \n",
       "\n",
       "    Nato (detailed in spreadsheet)  Nato - official figures  \n",
       "55                            46.0                     46.0  "
      ]
     },
     "execution_count": 6,
     "metadata": {},
     "output_type": "execute_result"
    }
   ],
   "source": [
    "db.query(\"(Month == 'August') & (Year == 2008)\")"
   ]
  },
  {
   "cell_type": "markdown",
   "metadata": {},
   "source": [
    "\n",
    "### What is the month with the most total number of casualties?"
   ]
  },
  {
   "cell_type": "code",
   "execution_count": 7,
   "metadata": {},
   "outputs": [
    {
     "data": {
      "text/html": [
       "<div>\n",
       "<style scoped>\n",
       "    .dataframe tbody tr th:only-of-type {\n",
       "        vertical-align: middle;\n",
       "    }\n",
       "\n",
       "    .dataframe tbody tr th {\n",
       "        vertical-align: top;\n",
       "    }\n",
       "\n",
       "    .dataframe thead th {\n",
       "        text-align: right;\n",
       "    }\n",
       "</style>\n",
       "<table border=\"1\" class=\"dataframe\">\n",
       "  <thead>\n",
       "    <tr style=\"text-align: right;\">\n",
       "      <th></th>\n",
       "      <th>Year</th>\n",
       "      <th>Month</th>\n",
       "      <th>Taliban</th>\n",
       "      <th>Civilians</th>\n",
       "      <th>Afghan forces</th>\n",
       "      <th>Nato (detailed in spreadsheet)</th>\n",
       "      <th>Nato - official figures</th>\n",
       "    </tr>\n",
       "  </thead>\n",
       "  <tbody>\n",
       "    <tr>\n",
       "      <th>32</th>\n",
       "      <td>2006.0</td>\n",
       "      <td>September</td>\n",
       "      <td>945.0</td>\n",
       "      <td>172</td>\n",
       "      <td>97.0</td>\n",
       "      <td>19.0</td>\n",
       "      <td>38.0</td>\n",
       "    </tr>\n",
       "  </tbody>\n",
       "</table>\n",
       "</div>"
      ],
      "text/plain": [
       "      Year      Month  Taliban  Civilians  Afghan forces  \\\n",
       "32  2006.0  September    945.0        172           97.0   \n",
       "\n",
       "    Nato (detailed in spreadsheet)  Nato - official figures  \n",
       "32                            19.0                     38.0  "
      ]
     },
     "execution_count": 7,
     "metadata": {},
     "output_type": "execute_result"
    }
   ],
   "source": [
    "total = db_wo_total1.loc[:, \"Taliban\": \"Nato (detailed in spreadsheet)\"]\\\n",
    "                    .fillna(0)\\\n",
    "                    .sum(axis=1)\n",
    "db_wo_total1.loc[total==total.max(), :]"
   ]
  },
  {
   "cell_type": "markdown",
   "metadata": {},
   "source": [
    "This is a trickier one, let's unpack what's going on:\n",
    "\n",
    "- We build a `total` that gives us the number of total casualties for a given month (note we include the Guardian's version of Nato casualties, but you would have also swapped that for the official figures). See how we use a [range](https://darribas.org/gds_course/content/bB/lab_B.html#index-based-queries) query for that (`\"Taliban\": \"Nato (detailed in spreadsheet)\"`)\n",
    "- One issue that crops up is that some counts are missing. We assume, in this case, that means there were no casualties in that month. In other words, we assume `NaN` values represent counts of zero. Hence, we can replace missing values for 0 using the `fillna` method.\n",
    "- Once we have a fully filled table, we sum (`.sum`) by row (`axis=1`) to get the total for each month, and query the `db` table to return the rows where the value  in `total` is equal to its maximum value. Note that this only works because `total` and `db` are indexed identically for their rows."
   ]
  },
  {
   "cell_type": "markdown",
   "metadata": {},
   "source": [
    "### Can you make a plot of the distribution of casualties over time?\n",
    "\n",
    "Here again, there are many ways to interpret the solution, and many more to implement it. So do not think your approach is necessarily wrong if it's not the same of what's below. This solution is provided as guidance.\n",
    "\n",
    "To make a plot of casualties, we need two things:\n",
    "\n",
    "1. The number of casualties, for which we will use `total` from the previous one\n",
    "1. A column with decently formatted dates.\n",
    "\n",
    "A quick and simple solution that gets to 1. (but not necessarily 2.) could be:"
   ]
  },
  {
   "cell_type": "code",
   "execution_count": 8,
   "metadata": {},
   "outputs": [
    {
     "data": {
      "text/plain": [
       "<AxesSubplot:>"
      ]
     },
     "execution_count": 8,
     "metadata": {},
     "output_type": "execute_result"
    },
    {
     "data": {
      "image/png": "[encoded data removed]",
      "text/plain": [
       "<Figure size 432x288 with 1 Axes>"
      ]
     },
     "metadata": {
      "needs_background": "light"
     },
     "output_type": "display_data"
    }
   ],
   "source": [
    "total.plot()"
   ]
  },
  {
   "cell_type": "markdown",
   "metadata": {},
   "source": [
    "A slightly more polished version could be:"
   ]
  },
  {
   "cell_type": "code",
   "execution_count": 9,
   "metadata": {},
   "outputs": [
    {
     "data": {
      "text/html": [
       "<div>\n",
       "<style scoped>\n",
       "    .dataframe tbody tr th:only-of-type {\n",
       "        vertical-align: middle;\n",
       "    }\n",
       "\n",
       "    .dataframe tbody tr th {\n",
       "        vertical-align: top;\n",
       "    }\n",
       "\n",
       "    .dataframe thead th {\n",
       "        text-align: right;\n",
       "    }\n",
       "</style>\n",
       "<table border=\"1\" class=\"dataframe\">\n",
       "  <thead>\n",
       "    <tr style=\"text-align: right;\">\n",
       "      <th></th>\n",
       "      <th>Year</th>\n",
       "      <th>Month</th>\n",
       "      <th>Taliban</th>\n",
       "      <th>Civilians</th>\n",
       "      <th>Afghan forces</th>\n",
       "      <th>Nato (detailed in spreadsheet)</th>\n",
       "      <th>Nato - official figures</th>\n",
       "    </tr>\n",
       "  </thead>\n",
       "  <tbody>\n",
       "    <tr>\n",
       "      <th>72</th>\n",
       "      <td>NaN</td>\n",
       "      <td>24498</td>\n",
       "      <td>15507.0</td>\n",
       "      <td>4024</td>\n",
       "      <td>3820.0</td>\n",
       "      <td>1147.0</td>\n",
       "      <td>NaN</td>\n",
       "    </tr>\n",
       "  </tbody>\n",
       "</table>\n",
       "</div>"
      ],
      "text/plain": [
       "    Year  Month  Taliban  Civilians  Afghan forces  \\\n",
       "72   NaN  24498  15507.0       4024         3820.0   \n",
       "\n",
       "    Nato (detailed in spreadsheet)  Nato - official figures  \n",
       "72                          1147.0                      NaN  "
      ]
     },
     "execution_count": 9,
     "metadata": {},
     "output_type": "execute_result"
    }
   ],
   "source": [
    "db[db[\"Year\"].isnull()]"
   ]
  },
  {
   "cell_type": "code",
   "execution_count": 10,
   "metadata": {},
   "outputs": [
    {
     "name": "stderr",
     "output_type": "stream",
     "text": [
      "/opt/conda/lib/python3.7/site-packages/pandas/plotting/_matplotlib/core.py:1235: UserWarning: FixedFormatter should only be used together with FixedLocator\n",
      "  ax.set_xticklabels(xticklabels)\n"
     ]
    },
    {
     "data": {
      "text/plain": [
       "<AxesSubplot:>"
      ]
     },
     "execution_count": 10,
     "metadata": {},
     "output_type": "execute_result"
    },
    {
     "data": {
      "image/png": "[encoded data removed]",
      "text/plain": [
       "<Figure size 864x432 with 1 Axes>"
      ]
     },
     "metadata": {
      "needs_background": "light"
     },
     "output_type": "display_data"
    }
   ],
   "source": [
    "d = db_wo_total1[\"Year\"].astype(int).astype(str) + \"-\" + db[\"Month\"]\n",
    "total.rename(d)\\\n",
    "     .plot(figsize=(12, 6), \n",
    "           rot=45\n",
    "          )"
   ]
  }
 ],
 "metadata": {
  "kernelspec": {
   "display_name": "Python 3",
   "language": "python",
   "name": "python3"
  },
  "language_info": {
   "codemirror_mode": {
    "name": "ipython",
    "version": 3
   },
   "file_extension": ".py",
   "mimetype": "text/x-python",
   "name": "python",
   "nbconvert_exporter": "python",
   "pygments_lexer": "ipython3",
   "version": "3.7.8"
  }
 },
 "nbformat": 4,
 "nbformat_minor": 4
}
