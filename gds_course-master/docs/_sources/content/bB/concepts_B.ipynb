{
 "cells": [
  {
   "cell_type": "code",
   "execution_count": 1,
   "metadata": {
    "tags": [
     "remove-cell"
    ]
   },
   "outputs": [],
   "source": [
    "from IPython.display import YouTubeVideo"
   ]
  },
  {
   "cell_type": "markdown",
   "metadata": {},
   "source": [
    "# Concepts\n",
    "\n",
    "The ideas behind this block are better communicated through narrative than video or lectures. Hence, the concepts section are delivered through a few references you are expected to read. These will total up about one and a half hours of your focused time."
   ]
  },
  {
   "cell_type": "markdown",
   "metadata": {},
   "source": [
    "## Open Science\n",
    "\n",
    "The first part of this block is about setting the philosophical background. Why do we care about the processes and tools we use when we do computational work? Where do the current paradigm come from? Are we on the verge of a new model? For all of this, we we have two reads to set the tone. Make sure to get those in first thing before moving on to the next bits.\n",
    "\n",
    "```{margin}\n",
    "Read the chapter [here](https://geographicdata.science/book/notebooks/01_geospatial_computational_environment.html). Estimated time: 15min.\n",
    "```\n",
    "\n",
    "- First half of Chapter 1 in \"Geographic Data Science with PySAL and the PyData stack\" {cite}`reyABwolf`.\n",
    "\n",
    "```{margin}\n",
    "Read the piece [here](https://www.theatlantic.com/science/archive/2018/04/the-scientific-paper-is-obsolete/556676/). Estimated time: 35min.\n",
    "```\n",
    "\n",
    "- The 2018 Atlantic piece *\"The scientific paper is obsolete\"* on computational notebooks, by James Somers {cite}`somers2018scientific`."
   ]
  },
  {
   "cell_type": "markdown",
   "metadata": {},
   "source": [
    "## Modern Scientific Tools\n",
    "\n",
    "Once we know a bit more about why we should care about the tools we use, let's dig into those that will underpin much of this course. This part is interesting in itself, but will also valuable to better understand the practical aspects of the course. Again, we have two reads here to set the tone and complement the practical introduction we saw in the [Hands-on](lab_A) and [DIY](diy_A) parts of the previous block. We are closing the circle here:\n",
    "\n",
    "```{margin}\n",
    "Read the chapter [here](https://geographicdata.science/book/notebooks/01_geospatial_computational_environment.html#the-computational-building-blocks-of-this-book).\n",
    "```\n",
    "\n",
    "- Second half of Chapter 1 in \"Geographic Data Science with PySAL and the PyData stack\" {cite}`reyABwolf`.\n",
    "- The chapter in the [GIS&T Book of Knowledge](https://gistbok.ucgis.org/) on computational notebooks, by Geoff Boeing and Dani Arribas-Bel.\n"
   ]
  }
 ],
 "metadata": {
  "kernelspec": {
   "display_name": "Python 3",
   "language": "python",
   "name": "python3"
  },
  "language_info": {
   "codemirror_mode": {
    "name": "ipython",
    "version": 3
   },
   "file_extension": ".py",
   "mimetype": "text/x-python",
   "name": "python",
   "nbconvert_exporter": "python",
   "pygments_lexer": "ipython3",
   "version": "3.7.8"
  }
 },
 "nbformat": 4,
 "nbformat_minor": 4
}
