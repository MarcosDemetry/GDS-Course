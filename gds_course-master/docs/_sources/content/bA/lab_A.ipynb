{
 "cells": [
  {
   "cell_type": "code",
   "execution_count": 1,
   "metadata": {
    "tags": [
     "remove-cell"
    ]
   },
   "outputs": [],
   "source": [
    "from IPython.display import YouTubeVideo, IFrame"
   ]
  },
  {
   "cell_type": "markdown",
   "metadata": {},
   "source": [
    "# Hands-on\n",
    "\n",
    "Let's get our hands to the keyboard! In this first \"hands-on\" session, we will learn about the tools and technologies we will use to complete this course."
   ]
  },
  {
   "cell_type": "markdown",
   "metadata": {},
   "source": [
    "## Software infrastructure\n",
    "\n",
    "The main tool we will use for this course is JupyterLab so, to be able to follow this course interactively and successfully complete it, you will need to be able to run it. \n",
    "\n",
    "```{tip}\n",
    "Check out instructions on the {ref}`Infrastructure page <software_stack>`\n",
    "```\n",
    "\n",
    "(lab_A:jl)=\n",
    "### Jupyter Lab\n",
    "\n",
    "Once you have access to an installation of Jupyter Lab, watch the following video, which provides an overview of the tools and its main components:"
   ]
  },
  {
   "cell_type": "code",
   "execution_count": 2,
   "metadata": {
    "tags": [
     "remove-input"
    ]
   },
   "outputs": [
    {
     "data": {
      "text/html": [
       "\n",
       "        <iframe\n",
       "            width=\"700\"\n",
       "            height=\"300\"\n",
       "            src=\"https://liverpool.instructuremedia.com/embed/bd9e43bf-9fca-4ecb-b3b1-ce5f4990a9f0\"\n",
       "            frameborder=\"0\"\n",
       "            allowfullscreen\n",
       "        ></iframe>\n",
       "        "
      ],
      "text/plain": [
       "<IPython.lib.display.IFrame at 0x7f1c801d87d0>"
      ]
     },
     "execution_count": 2,
     "metadata": {},
     "output_type": "execute_result"
    }
   ],
   "source": [
    "IFrame(\"https://liverpool.instructuremedia.com/embed/bd9e43bf-9fca-4ecb-b3b1-ce5f4990a9f0\",\n",
    "       width=700,\n",
    "       height=300\n",
    "      )"
   ]
  },
  {
   "cell_type": "markdown",
   "metadata": {},
   "source": [
    "### Jupyter Notebooks\n",
    "\n",
    "The main vehicle we will use to access, edit and create content in this course are Jupyter Notebooks. Watch this video for a tour into their main features and how to master their use:"
   ]
  },
  {
   "cell_type": "code",
   "execution_count": 3,
   "metadata": {
    "tags": [
     "remove-input"
    ]
   },
   "outputs": [
    {
     "data": {
      "text/html": [
       "\n",
       "        <iframe\n",
       "            width=\"700\"\n",
       "            height=\"300\"\n",
       "            src=\"https://liverpool.instructuremedia.com/embed/6257e2a6-5af2-4fd7-9a9a-31a6818b25e2\"\n",
       "            frameborder=\"0\"\n",
       "            allowfullscreen\n",
       "        ></iframe>\n",
       "        "
      ],
      "text/plain": [
       "<IPython.lib.display.IFrame at 0x7f1c80280090>"
      ]
     },
     "execution_count": 3,
     "metadata": {},
     "output_type": "execute_result"
    }
   ],
   "source": [
    "IFrame(\"https://liverpool.instructuremedia.com/embed/6257e2a6-5af2-4fd7-9a9a-31a6818b25e2\",\n",
    "       width=700,\n",
    "       height=300\n",
    "      )"
   ]
  },
  {
   "cell_type": "markdown",
   "metadata": {},
   "source": [
    "As mentioned in the clip, notebook cells can contain code or text. You will write plenty of code cells along the way but, to get familiar with Markdown and how you can style up your text cells, start by reading this resource:\n",
    "\n",
    "> [https://guides.github.com/features/mastering-markdown/](https://guides.github.com/features/mastering-markdown/)"
   ]
  },
  {
   "cell_type": "markdown",
   "metadata": {},
   "source": [
    "(lab_A:access)=\n",
    "## Following this course interactively\n",
    "\n",
    "Now you are familiar with Jupyter Lab and its notebooks, we are ready to jump on the materials for this course. The following clip shows you how to access course content and get  up to speed in no time!\n"
   ]
  },
  {
   "cell_type": "code",
   "execution_count": 4,
   "metadata": {
    "tags": [
     "remove-input"
    ]
   },
   "outputs": [
    {
     "data": {
      "text/html": [
       "\n",
       "        <iframe\n",
       "            width=\"700\"\n",
       "            height=\"300\"\n",
       "            src=\"https://liverpool.instructuremedia.com/embed/7baa7607-600a-498b-b06e-a1d36a7272d8\"\n",
       "            frameborder=\"0\"\n",
       "            allowfullscreen\n",
       "        ></iframe>\n",
       "        "
      ],
      "text/plain": [
       "<IPython.lib.display.IFrame at 0x7f1c801afd90>"
      ]
     },
     "execution_count": 4,
     "metadata": {},
     "output_type": "execute_result"
    }
   ],
   "source": [
    "IFrame(\"https://liverpool.instructuremedia.com/embed/7baa7607-600a-498b-b06e-a1d36a7272d8\",\n",
    "       width=700,\n",
    "       height=300\n",
    "      )"
   ]
  }
 ],
 "metadata": {
  "kernelspec": {
   "display_name": "Python 3",
   "language": "python",
   "name": "python3"
  },
  "language_info": {
   "codemirror_mode": {
    "name": "ipython",
    "version": 3
   },
   "file_extension": ".py",
   "mimetype": "text/x-python",
   "name": "python",
   "nbconvert_exporter": "python",
   "pygments_lexer": "ipython3",
   "version": "3.7.8"
  }
 },
 "nbformat": 4,
 "nbformat_minor": 4
}
