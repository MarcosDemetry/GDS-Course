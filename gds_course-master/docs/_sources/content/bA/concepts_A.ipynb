{
 "cells": [
  {
   "cell_type": "code",
   "execution_count": 1,
   "metadata": {
    "tags": [
     "remove-cell"
    ]
   },
   "outputs": [],
   "source": [
    "from IPython.display import YouTubeVideo, VimeoVideo, IFrame"
   ]
  },
  {
   "cell_type": "markdown",
   "metadata": {},
   "source": [
    "# Concepts\n",
    "\n",
    "Here's where it all starts. In this section we introduce the course and what Geographic Data Science is. We top it up with a few (optional) further readings for the interested and curious mind."
   ]
  },
  {
   "cell_type": "markdown",
   "metadata": {},
   "source": [
    "## This course\n",
    "\n",
    "Let us start from the beginning, here is a snapshot of what this course is about! In the following clip, you will find out about the philosophy behind the course, how the content is structured, and why this is all designed like this. And, also, a little bit about the assessment..."
   ]
  },
  {
   "cell_type": "markdown",
   "metadata": {},
   "source": [
    "```{sidebar} Slides\n",
    "\n",
    "The slides used in the clip are available at:\n",
    "\n",
    "- <a href=\"../slides/block_A_i.html\"> `[HTML]` </a>\n",
    "- <a href=\"../slides/pdf/block_A_i.pdf\"> `[PDF]` </a>\n",
    "\n",
    "```"
   ]
  },
  {
   "cell_type": "code",
   "execution_count": 2,
   "metadata": {
    "tags": [
     "remove-input"
    ]
   },
   "outputs": [
    {
     "data": {
      "text/html": [
       "\n",
       "        <iframe\n",
       "            width=\"500\"\n",
       "            height=\"300\"\n",
       "            src=\"https://liverpool.instructuremedia.com/embed/45750aa3-f777-4431-8752-019f9f431eb7\"\n",
       "            frameborder=\"0\"\n",
       "            allowfullscreen\n",
       "        ></iframe>\n",
       "        "
      ],
      "text/plain": [
       "<IPython.lib.display.IFrame at 0x7f2f89709810>"
      ]
     },
     "execution_count": 2,
     "metadata": {},
     "output_type": "execute_result"
    }
   ],
   "source": [
    "IFrame(\"https://liverpool.instructuremedia.com/embed/45750aa3-f777-4431-8752-019f9f431eb7\",\n",
    "       width=500,\n",
    "       height=300\n",
    "      )"
   ]
  },
  {
   "cell_type": "markdown",
   "metadata": {},
   "source": [
    "The video also mentions a clip about the digitalisation of our activities. If you want to watch it outside the slides, expand below."
   ]
  },
  {
   "cell_type": "code",
   "execution_count": 3,
   "metadata": {
    "tags": [
     "remove-input",
     "hide-output"
    ]
   },
   "outputs": [
    {
     "data": {
      "image/jpeg": "[encoded data removed]",
      "text/html": [
       "\n",
       "        <iframe\n",
       "            width=\"700\"\n",
       "            height=\"300\"\n",
       "            src=\"https://www.youtube.com/embed/M_rfujuRHUU\"\n",
       "            frameborder=\"0\"\n",
       "            allowfullscreen\n",
       "        ></iframe>\n",
       "        "
      ],
      "text/plain": [
       "<IPython.lib.display.YouTubeVideo at 0x7f2f8a7eac50>"
      ]
     },
     "execution_count": 3,
     "metadata": {},
     "output_type": "execute_result"
    }
   ],
   "source": [
    "YouTubeVideo(\"M_rfujuRHUU\", width=700)"
   ]
  },
  {
   "cell_type": "markdown",
   "metadata": {},
   "source": [
    "## What is *Geographic Data Science*?\n",
    "\n",
    "Once it is clearer how this course is going to run, let's dive right into why this course is necessary. The following clip is taken from a keynote response by Dani Arribas-Bel at the first [Spatial Data Science Conference](https://carto.com/spatial-data-conference/2017/), organised by [CARTO](https://carto.com/) and held in Brooklyn in 2017. The talk provides a bit of background and context, which will hopefully help you understand a bit better what Geographic Data Science is."
   ]
  },
  {
   "cell_type": "markdown",
   "metadata": {},
   "source": [
    "```{sidebar} Slides\n",
    "\n",
    "The slides used in the clip are available at:\n",
    "\n",
    "- <a href=\"../slides/block_A_ii.html\"> `[HTML]` </a>\n",
    "- <a href=\"../slides/pdf/block_A_ii.pdf\"> `[PDF]` </a>\n",
    "\n",
    "```"
   ]
  },
  {
   "cell_type": "code",
   "execution_count": 4,
   "metadata": {
    "tags": [
     "remove-input"
    ]
   },
   "outputs": [
    {
     "data": {
      "text/html": [
       "\n",
       "        <iframe\n",
       "            width=\"500\"\n",
       "            height=\"300\"\n",
       "            src=\"https://player.vimeo.com/video/250495898\"\n",
       "            frameborder=\"0\"\n",
       "            allowfullscreen\n",
       "        ></iframe>\n",
       "        "
      ],
      "text/plain": [
       "<IPython.lib.display.VimeoVideo at 0x7f2f89fb72d0>"
      ]
     },
     "execution_count": 4,
     "metadata": {},
     "output_type": "execute_result"
    }
   ],
   "source": [
    "VimeoVideo(\"250495898\", width=500)"
   ]
  },
  {
   "cell_type": "markdown",
   "metadata": {},
   "source": [
    "## Further readings"
   ]
  },
  {
   "cell_type": "markdown",
   "metadata": {},
   "source": [
    "To get a better picture, the following readings complement the overview provided above very well:\n",
    "\n",
    "```{margin} Bonus\n",
    "The chapter is available free online [`HTML`](http://shop.oreilly.com/product/0636920028529.do) | [`PDF`](http://cdn.oreillystatic.com/oreilly/booksamplers/9781449358655_sampler.pdf)\n",
    "```\n",
    "1. The introductory chapter to \"Doing Data Science\" {cite}`schutt2013doing`, by Cathy O'Neil and Rachel Schutt is general overview of why we needed Data Science and where if came from. \n",
    "1. A slightly more technical historical perspective on where Data Science came from and where it might go can be found in David Donoho's recent overview {cite}`donoho201750`.\n",
    "1. A geographic take on Data Science, proposing more interaction between Geography and Data Science {cite}`singleton2019geographic`."
   ]
  }
 ],
 "metadata": {
  "kernelspec": {
   "display_name": "Python 3",
   "language": "python",
   "name": "python3"
  },
  "language_info": {
   "codemirror_mode": {
    "name": "ipython",
    "version": 3
   },
   "file_extension": ".py",
   "mimetype": "text/x-python",
   "name": "python",
   "nbconvert_exporter": "python",
   "pygments_lexer": "ipython3",
   "version": "3.7.8"
  }
 },
 "nbformat": 4,
 "nbformat_minor": 4
}
