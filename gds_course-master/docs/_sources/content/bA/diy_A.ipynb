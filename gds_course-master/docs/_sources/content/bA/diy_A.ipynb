{
 "cells": [
  {
   "cell_type": "code",
   "execution_count": 1,
   "metadata": {
    "tags": [
     "remove-cell"
    ]
   },
   "outputs": [],
   "source": [
    "from IPython.display import IFrame"
   ]
  },
  {
   "cell_type": "markdown",
   "metadata": {},
   "source": [
    "# Do-It-Yourself\n",
    "\n",
    "## Task I: Get up to speed\n",
    "\n",
    "For this very first task, all you need to to you are all set up to follow this course. \n",
    "\n",
    "1. Make you have the required setup ready to go. For this, feel free to visit the section on the {ref}`software stack`\n",
    "1. Once installed, {ref}`launch Jupyter Lab <lab_A:jl>` and make sure it works as expected\n",
    "1. With Jupyter Lab running, try to {ref}`download and access <lab_A:access>` one of the notebooks for the course, pick your favorite!\n",
    "\n",
    "## Task II: Master Markdown\n",
    "\n",
    "For this second task, we are going to focus on getting to know Markdown a bit better. Remember Markdown is the technology that'll allow us to render text within a notebook. To practise its syntax, try to reproduce the following WikiPedia entry:\n",
    "\n",
    "> [https://en.wikipedia.org/wiki/Chocolate_chip_cookie_dough_ice_cream](https://en.wikipedia.org/wiki/Chocolate_chip_cookie_dough_ice_cream)"
   ]
  },
  {
   "cell_type": "code",
   "execution_count": 2,
   "metadata": {
    "tags": [
     "remove-input"
    ]
   },
   "outputs": [
    {
     "data": {
      "text/html": [
       "\n",
       "        <iframe\n",
       "            width=\"700\"\n",
       "            height=\"300\"\n",
       "            src=\"https://en.wikipedia.org/wiki/Chocolate_chip_cookie_dough_ice_cream\"\n",
       "            frameborder=\"0\"\n",
       "            allowfullscreen\n",
       "        ></iframe>\n",
       "        "
      ],
      "text/plain": [
       "<IPython.lib.display.IFrame at 0x7f5ad0167650>"
      ]
     },
     "execution_count": 2,
     "metadata": {},
     "output_type": "execute_result"
    }
   ],
   "source": [
    "IFrame(\"https://en.wikipedia.org/wiki/Chocolate_chip_cookie_dough_ice_cream\",\n",
    "       width=700,\n",
    "       height=300\n",
    "      )"
   ]
  },
  {
   "cell_type": "markdown",
   "metadata": {},
   "source": [
    "```{tip}\n",
    "Do not over think it. Focus on getting the bold, italics, links, headlines and lists correctly formated, but don't worry too much about the overall layout. Bonus if you manage to insert the image as well (it does not need to be properly placed as in the original page)!\n",
    "```"
   ]
  }
 ],
 "metadata": {
  "kernelspec": {
   "display_name": "Python 3",
   "language": "python",
   "name": "python3"
  },
  "language_info": {
   "codemirror_mode": {
    "name": "ipython",
    "version": 3
   },
   "file_extension": ".py",
   "mimetype": "text/x-python",
   "name": "python",
   "nbconvert_exporter": "python",
   "pygments_lexer": "ipython3",
   "version": "3.7.8"
  }
 },
 "nbformat": 4,
 "nbformat_minor": 4
}
