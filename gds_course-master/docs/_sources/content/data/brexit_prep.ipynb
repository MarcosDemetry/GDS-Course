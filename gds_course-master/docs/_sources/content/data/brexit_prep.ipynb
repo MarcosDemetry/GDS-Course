{
 "cells": [
  {
   "cell_type": "markdown",
   "metadata": {},
   "source": [
    "# Prepare Brexit dataset\n",
    "\n",
    "This notebook shows how the table with results from the EU referendum has been assembled for this course.\n",
    "\n",
    "The dataset is the same as the Brexit data used in the GDS Book {cite}`reyABwolf`, but here we have just assembled it into a single file that can be read remotely. For more details on sources, please refer to:\n",
    "\n",
    "> [https://geographicdata.science/book/data/brexit/README.html](https://geographicdata.science/book/data/brexit/README.html)"
   ]
  },
  {
   "cell_type": "code",
   "execution_count": 1,
   "metadata": {},
   "outputs": [],
   "source": [
    "import pandas, geopandas"
   ]
  },
  {
   "cell_type": "markdown",
   "metadata": {},
   "source": [
    "## Referendum results"
   ]
  },
  {
   "cell_type": "code",
   "execution_count": 2,
   "metadata": {},
   "outputs": [
    {
     "data": {
      "text/plain": [
       "'https://www.electoralcommission.org.uk/sites/default/files/2019-07/EU-referendum-result-data.csv'"
      ]
     },
     "execution_count": 2,
     "metadata": {},
     "output_type": "execute_result"
    }
   ],
   "source": [
    "# Updated to work on Sep. 15th 2020\n",
    "url = (\"https://www.electoralcommission.org.uk/sites/default/\"\n",
    "       \"files/2019-07/EU-referendum-result-data.csv\")\n",
    "url"
   ]
  },
  {
   "cell_type": "code",
   "execution_count": 3,
   "metadata": {},
   "outputs": [
    {
     "name": "stdout",
     "output_type": "stream",
     "text": [
      "<class 'pandas.core.frame.DataFrame'>\n",
      "RangeIndex: 382 entries, 0 to 381\n",
      "Data columns (total 21 columns):\n",
      " #   Column                   Non-Null Count  Dtype  \n",
      "---  ------                   --------------  -----  \n",
      " 0   id                       382 non-null    int64  \n",
      " 1   Region_Code              382 non-null    object \n",
      " 2   Region                   382 non-null    object \n",
      " 3   Area_Code                382 non-null    object \n",
      " 4   Area                     382 non-null    object \n",
      " 5   Electorate               382 non-null    int64  \n",
      " 6   ExpectedBallots          382 non-null    int64  \n",
      " 7   VerifiedBallotPapers     382 non-null    int64  \n",
      " 8   Pct_Turnout              382 non-null    float64\n",
      " 9   Votes_Cast               382 non-null    int64  \n",
      " 10  Valid_Votes              382 non-null    int64  \n",
      " 11  Remain                   382 non-null    int64  \n",
      " 12  Leave                    382 non-null    int64  \n",
      " 13  Rejected_Ballots         382 non-null    int64  \n",
      " 14  No_official_mark         382 non-null    int64  \n",
      " 15  Voting_for_both_answers  382 non-null    int64  \n",
      " 16  Writing_or_mark          382 non-null    int64  \n",
      " 17  Unmarked_or_void         382 non-null    int64  \n",
      " 18  Pct_Remain               382 non-null    float64\n",
      " 19  Pct_Leave                382 non-null    float64\n",
      " 20  Pct_Rejected             382 non-null    float64\n",
      "dtypes: float64(4), int64(13), object(4)\n",
      "memory usage: 62.8+ KB\n"
     ]
    }
   ],
   "source": [
    "ref_res = pandas.read_csv(url)\n",
    "ref_res.info()"
   ]
  },
  {
   "cell_type": "markdown",
   "metadata": {},
   "source": [
    "## Local authorities\n",
    "\n",
    "As of Sep. 15th 2020, the local authority boundaries could be accessed from the following site:\n",
    "\n",
    "> [https://data.gov.uk/dataset/65f48bab-e65f-491c-90f5-729eef098196/local-authority-districts-december-2016-generalised-clipped-boundaries-in-the-uk-wgs84](https://data.gov.uk/dataset/65f48bab-e65f-491c-90f5-729eef098196/local-authority-districts-december-2016-generalised-clipped-boundaries-in-the-uk-wgs84)\n",
    "\n",
    "We pull the GeoJSON:"
   ]
  },
  {
   "cell_type": "code",
   "execution_count": 4,
   "metadata": {},
   "outputs": [
    {
     "data": {
      "text/plain": [
       "'http://geoportal1-ons.opendata.arcgis.com/datasets/e3634984fe1143da9fb31671627f5443_2.geojson?outSR={%22latestWkid%22:4326,%22wkid%22:4326}'"
      ]
     },
     "execution_count": 4,
     "metadata": {},
     "output_type": "execute_result"
    }
   ],
   "source": [
    "url = (\"http://geoportal1-ons.opendata.arcgis.com/datasets/\"\\\n",
    "       \"e3634984fe1143da9fb31671627f5443_2.geojson\"\\\n",
    "       \"?outSR={%22latestWkid%22:4326,%22wkid%22:4326}\")\n",
    "url"
   ]
  },
  {
   "cell_type": "code",
   "execution_count": 5,
   "metadata": {},
   "outputs": [
    {
     "name": "stdout",
     "output_type": "stream",
     "text": [
      "<class 'geopandas.geodataframe.GeoDataFrame'>\n",
      "RangeIndex: 391 entries, 0 to 390\n",
      "Data columns (total 11 columns):\n",
      " #   Column          Non-Null Count  Dtype   \n",
      "---  ------          --------------  -----   \n",
      " 0   objectid        391 non-null    int64   \n",
      " 1   lad16cd         391 non-null    object  \n",
      " 2   lad16nm         391 non-null    object  \n",
      " 3   lad16nmw        391 non-null    object  \n",
      " 4   bng_e           391 non-null    int64   \n",
      " 5   bng_n           391 non-null    int64   \n",
      " 6   long            391 non-null    float64 \n",
      " 7   lat             391 non-null    float64 \n",
      " 8   st_areashape    391 non-null    float64 \n",
      " 9   st_lengthshape  391 non-null    float64 \n",
      " 10  geometry        391 non-null    geometry\n",
      "dtypes: float64(4), geometry(1), int64(3), object(3)\n",
      "memory usage: 33.7+ KB\n"
     ]
    }
   ],
   "source": [
    "lads = geopandas.read_file(url)\n",
    "lads.info()"
   ]
  },
  {
   "cell_type": "markdown",
   "metadata": {},
   "source": [
    "## Join\n",
    "\n",
    "Link up both tables, keep only required columns for a simpler and slimmer table, and drop areas without values:"
   ]
  },
  {
   "cell_type": "code",
   "execution_count": 6,
   "metadata": {},
   "outputs": [
    {
     "name": "stdout",
     "output_type": "stream",
     "text": [
      "<class 'geopandas.geodataframe.GeoDataFrame'>\n",
      "Int64Index: 380 entries, 0 to 390\n",
      "Data columns (total 5 columns):\n",
      " #   Column     Non-Null Count  Dtype   \n",
      "---  ------     --------------  -----   \n",
      " 0   objectid   380 non-null    int64   \n",
      " 1   lad16cd    380 non-null    object  \n",
      " 2   lad16nm    380 non-null    object  \n",
      " 3   Pct_Leave  380 non-null    float64 \n",
      " 4   geometry   380 non-null    geometry\n",
      "dtypes: float64(1), geometry(1), int64(1), object(2)\n",
      "memory usage: 17.8+ KB\n"
     ]
    }
   ],
   "source": [
    "db = lads.join(ref_res.set_index(\"Area_Code\"), on=\"lad16cd\")\\\n",
    "         [['objectid', 'lad16cd', 'lad16nm', 'Pct_Leave', 'geometry']]\\\n",
    "         .dropna()\n",
    "db.info()"
   ]
  },
  {
   "cell_type": "markdown",
   "metadata": {},
   "source": [
    "## Write out\n",
    "\n",
    "We save as a Geopackage:"
   ]
  },
  {
   "cell_type": "code",
   "execution_count": 7,
   "metadata": {},
   "outputs": [],
   "source": [
    "! rm -f brexit.gpkg\n",
    "db.to_file(\"brexit.gpkg\", driver=\"GPKG\")"
   ]
  }
 ],
 "metadata": {
  "kernelspec": {
   "display_name": "Python 3",
   "language": "python",
   "name": "python3"
  },
  "language_info": {
   "codemirror_mode": {
    "name": "ipython",
    "version": 3
   },
   "file_extension": ".py",
   "mimetype": "text/x-python",
   "name": "python",
   "nbconvert_exporter": "python",
   "pygments_lexer": "ipython3",
   "version": "3.7.8"
  }
 },
 "nbformat": 4,
 "nbformat_minor": 4
}
