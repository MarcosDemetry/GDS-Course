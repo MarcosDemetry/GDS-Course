{
 "cells": [
  {
   "cell_type": "markdown",
   "metadata": {},
   "source": [
    "# Chocolate chip cookie dough ice cream\n",
    "***"
   ]
  },
  {
   "cell_type": "markdown",
   "metadata": {},
   "source": [
    "From Wikipedia, the free encyclopedia"
   ]
  },
  {
   "cell_type": "markdown",
   "metadata": {},
   "source": [
    "__Chocolate chip cookie dough ice cream__ is a popular [ice cream](https://en.wikipedia.org/wiki/Ice_cream) flavor in which unbaked chunks of [chocolate chip](https://en.wikipedia.org/wiki/Chocolate_chip) [cookie dough](https://en.wikipedia.org/wiki/Cookie_dough) are embedded in [vanilla flavored ice cream](https://en.wikipedia.org/wiki/Vanilla_ice_cream)."
   ]
  },
  {
   "cell_type": "markdown",
   "metadata": {},
   "source": [
    "<img title=\"Chocolate chip cookie dough ice cream\" src=\"500px-Chocolate_chip_cookie_dough_ice_cream_with_orange_spoon.jpg\" style=\"width:300px;height:250px\" align=\"right\"/>"
   ]
  },
  {
   "cell_type": "code",
   "execution_count": 6,
   "metadata": {
    "jupyter": {
     "source_hidden": true
    }
   },
   "outputs": [
    {
     "data": {
      "text/html": [
       "<style>\n",
       "table {float:right}\n",
       "</style>\n"
      ],
      "text/plain": [
       "<IPython.core.display.HTML object>"
      ]
     },
     "metadata": {},
     "output_type": "display_data"
    }
   ],
   "source": [
    "%%html\n",
    "<style>\n",
    "table {float:right}\n",
    "</style>"
   ]
  },
  {
   "cell_type": "markdown",
   "metadata": {},
   "source": [
    "|  |  |\n",
    "| :-- | :-- |\n",
    "| __Typ__ | ice cream |\n",
    "| __Place of origin__ | United States |\n",
    "| __Created by__ | Ben & Jerry's |\n",
    "| __Main ingredients__ | Chocolate chip cookie dough, ice cream |"
   ]
  },
  {
   "cell_type": "markdown",
   "metadata": {},
   "source": [
    "<style>\n",
    "table {float:left}\n",
    "</style>"
   ]
  },
  {
   "cell_type": "markdown",
   "metadata": {},
   "source": [
    "## Contents\n",
    "1. [History](#first-bullet)\n",
    "2. [Preparation](#second-bullet)\n",
    "3. [See also](#third-bullet)\n",
    "4. [References](#fourth-bullet)"
   ]
  },
  {
   "cell_type": "markdown",
   "metadata": {},
   "source": [
    "## History <a class=\"anchor\" id=\"first-bullet\"></a>\n",
    "***"
   ]
  },
  {
   "cell_type": "markdown",
   "metadata": {},
   "source": [
    "Chocolate chip cookie dough ice cream was said to have originated in 1984 at the first [Ben & Jerry's](https://en.wikipedia.org/wiki/Ben_%26_Jerry%27s) \"scoop shop\" in [Burlington, Vermont](https://en.wikipedia.org/wiki/Burlington,_Vermont), from an anonymous suggestion on their flavor suggestion board.[[1]](#first-citation)<a class=\"anchor\" id=\"first-jump\"></a> In 1991, Ben & Jerry's began selling pints of the flavor which quickly became popular with consumers. By 1992, chocolate chip cookie dough accounted for 20 percent of the company's total ice cream sales, and other ice cream manufacturers such as [Dreyer's](https://en.wikipedia.org/wiki/Dreyer%27s) and [Mrs. Fields](https://en.wikipedia.org/wiki/Mrs._Fields) began making their own versions of the flavor.[[2]](#second-citation)<a class=\"anchor\" id=\"second-jump\"></a>"
   ]
  },
  {
   "cell_type": "markdown",
   "metadata": {},
   "source": [
    "## Preparation <a class=\"anchor\" id=\"second-bullet\"></a>\n",
    "***"
   ]
  },
  {
   "cell_type": "markdown",
   "metadata": {},
   "source": [
    "Beginning in 1990, [Rhino Foods](https://en.wikipedia.org/wiki/Rhino_Foods) manufactured the cookie dough used in Ben & Jerry's chocolate chip cookie dough ice cream. They invented a technique for maintaining the chewy consistency of the cookie dough when frozen, which the founder described as a \"technological breakthrough\".[[3]](#third-citation)<a class=\"anchor\" id=\"third-jump\"></a>\n",
    "\n",
    "Because of the [health risks of eating raw cookie dough](https://en.wikipedia.org/wiki/Cookie_dough#Health_risks), the dough used in cookie dough ice cream is pasteurized and heat-treated. For this reason, the dough is not suitable for baking.[[4]](#fourth-citation)<a class=\"anchor\" id=\"fourth-jump\"></a>"
   ]
  },
  {
   "cell_type": "markdown",
   "metadata": {},
   "source": [
    "## See also <a class=\"anchor\" id=\"third-bullet\"></a>\n",
    "***"
   ]
  },
  {
   "cell_type": "markdown",
   "metadata": {},
   "source": [
    "* [Cookies and cream](https://en.wikipedia.org/wiki/Cookies_and_cream)\n",
    "* [Stracciatella (ice cream)](https://en.wikipedia.org/wiki/Stracciatella_(ice_cream))\n",
    "* [List of ice cream flavors](https://en.wikipedia.org/wiki/List_of_ice_cream_flavors)"
   ]
  },
  {
   "cell_type": "markdown",
   "metadata": {},
   "source": [
    "## References <a class=\"anchor\" id=\"fourth-bullet\"></a> \n",
    "***"
   ]
  },
  {
   "cell_type": "markdown",
   "metadata": {},
   "source": [
    "* <a class=\"anchor\" id=\"first-citation\"></a> [^](#first-jump) [\"Ben & Jerry's Most Popular Flavour Was Invented in 1984\"](https://www.benandjerrys.ca/en/whats-new/cookie-dough-legendary). benandjerrys.ca. \n",
    "* <a class=\"anchor\" id=\"second-citation\"></a> [^](#second-jump) Lii, Jane H. (2 August 1992). [\"All About/Ice Cream; In the Cut-Throat World of Ice Cream, Flavormania!\"](https://www.nytimes.com/1992/08/02/business/all-about-ice-cream-in-the-cut-throat-world-of-ice-cream-flavormania.html) – via NYTimes.com.\n",
    "* <a class=\"anchor\" id=\"third-citation\"></a> [^](#third-jump) Vaughan-Hughes, Pip. [\"Rollin' in Dough\"](http://www.vermontguides.com/1999/12-dec/dec2.htm). vermontguides.com.\n",
    "* <a class=\"anchor\" id=\"fourth-citation\"></a> [^](#fourth-jump) Hoffman, Jan (22 November 2017). [\"Thanks a Lot! New Reasons Not to Eat Cookie Dough\"](https://web.archive.org/web/20171123001907/https://www.nytimes.com/2017/11/22/health/flour-raw-danger.html). Archived from the original on 23 November 2017 – via NYTimes.com."
   ]
  }
 ],
 "metadata": {
  "kernelspec": {
   "display_name": "Python 3",
   "language": "python",
   "name": "python3"
  },
  "language_info": {
   "codemirror_mode": {
    "name": "ipython",
    "version": 3
   },
   "file_extension": ".py",
   "mimetype": "text/x-python",
   "name": "python",
   "nbconvert_exporter": "python",
   "pygments_lexer": "ipython3",
   "version": "3.7.6"
  }
 },
 "nbformat": 4,
 "nbformat_minor": 4
}
